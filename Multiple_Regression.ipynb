{
  "nbformat": 4,
  "nbformat_minor": 0,
  "metadata": {
    "colab": {
      "name": "Multiple_Regression ",
      "provenance": [],
      "mount_file_id": "1FrC65VpkVqoWZMs0dXJngmyC3G8d7oFm",
      "authorship_tag": "ABX9TyOJ5EypSP/mwW//C3ZgW46S",
      "include_colab_link": true
    },
    "kernelspec": {
      "name": "python3",
      "display_name": "Python 3"
    }
  },
  "cells": [
    {
      "cell_type": "markdown",
      "metadata": {
        "id": "view-in-github",
        "colab_type": "text"
      },
      "source": [
        "<a href=\"https://colab.research.google.com/github/MRafaydev/Snake-Game/blob/master/Multiple_Regression.ipynb\" target=\"_parent\"><img src=\"https://colab.research.google.com/assets/colab-badge.svg\" alt=\"Open In Colab\"/></a>"
      ]
    },
    {
      "cell_type": "code",
      "metadata": {
        "id": "r4Tu8NmF7T7l",
        "outputId": "1a9f3fe8-50b8-402e-cd5e-21476364b5d6",
        "colab": {
          "base_uri": "https://localhost:8080/"
        }
      },
      "source": [
        "#import the libraries\n",
        "import numpy as py\n",
        "import matplotlib.pyplot as plt\n",
        "import pandas as pd\n",
        "\n",
        "#Import the data set from Desktop\n",
        "dataset = pd.read_csv('/content/M_Regression.csv')\n",
        "X=dataset.iloc[:,:-1].values\n",
        "y=dataset.iloc[:,3].values\n",
        "\n",
        "\n",
        "#Training and Testing Data (divide the data into two part)\n",
        "from sklearn.model_selection import train_test_split\n",
        "X_train, X_test, y_train, y_test =train_test_split(X,y,test_size=0.3, random_state=0)\n",
        "\n",
        "#regression\n",
        "from sklearn.linear_model import LinearRegression\n",
        "reg = LinearRegression()\n",
        "reg.fit(X_train,y_train)\n",
        "\n",
        "#for predict the test values\n",
        "y_prdict=reg.predict(X_test)\n",
        "y_prdict"
      ],
      "execution_count": 16,
      "outputs": [
        {
          "output_type": "execute_result",
          "data": {
            "text/plain": [
              "array([104054.44293869, 132719.3459701 , 133640.26830949,  72294.76911458,\n",
              "       179685.62227843, 114508.97572031,  66305.23069863,  98297.69326565,\n",
              "       114277.91894933, 169112.36095691,  96257.40152149,  87916.97242208,\n",
              "       110687.33942598,  90670.8337806 , 127780.63539583])"
            ]
          },
          "metadata": {
            "tags": []
          },
          "execution_count": 16
        }
      ]
    },
    {
      "cell_type": "code",
      "metadata": {
        "id": "4jGbMe51752M",
        "outputId": "19d59265-2051-4e31-e442-44330905bd3f",
        "colab": {
          "base_uri": "https://localhost:8080/"
        }
      },
      "source": [
        "reg.score(X_test,y_test)"
      ],
      "execution_count": 17,
      "outputs": [
        {
          "output_type": "execute_result",
          "data": {
            "text/plain": [
              "0.9355188337118219"
            ]
          },
          "metadata": {
            "tags": []
          },
          "execution_count": 17
        }
      ]
    },
    {
      "cell_type": "code",
      "metadata": {
        "id": "ZZetaWIz8Jc5",
        "outputId": "d7c97cb1-1629-4bc0-b00d-b5f784dc73a5",
        "colab": {
          "base_uri": "https://localhost:8080/"
        }
      },
      "source": [
        "dataset.mean()"
      ],
      "execution_count": 11,
      "outputs": [
        {
          "output_type": "execute_result",
          "data": {
            "text/plain": [
              "indoor       73721.6156\n",
              "outdoor     121344.6396\n",
              "domestic    211025.0978\n",
              "Profit      112012.6392\n",
              "dtype: float64"
            ]
          },
          "metadata": {
            "tags": []
          },
          "execution_count": 11
        }
      ]
    },
    {
      "cell_type": "code",
      "metadata": {
        "id": "otZUl9KY9uSI"
      },
      "source": [
        ""
      ],
      "execution_count": null,
      "outputs": []
    }
  ]
}